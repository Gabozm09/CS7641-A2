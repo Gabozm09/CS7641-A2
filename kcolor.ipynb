{
 "cells": [
  {
   "cell_type": "code",
   "execution_count": null,
   "metadata": {},
   "outputs": [],
   "source": [
    "import mlrose_hiive as mr\n",
    "import numpy as np\n",
    "import matplotlib.pyplot as plt\n",
    "import pandas as pd\n",
    "import seaborn as sns\n",
    "import time"
   ]
  },
  {
   "cell_type": "code",
   "execution_count": null,
   "metadata": {},
   "outputs": [],
   "source": [
    "# Define the K-Color optimization problem\n",
    "problem_size = 100 \n",
    "edges = [(0, 1), (0, 2), (0, 4), (1, 3), (2, 0), (2, 3), (3, 4)]\n",
    "fitness_kcolor = mr.MaxKColor(edges)\n",
    "problem_kcolor = mr.DiscreteOpt(length=problem_size, fitness_fn=fitness_kcolor, maximize=True, max_val=5)"
   ]
  },
  {
   "cell_type": "code",
   "execution_count": null,
   "metadata": {},
   "outputs": [],
   "source": [
    "max_attempts = 200\n",
    "max_iterations = 1000  # Limit iterations for quicker execution\n",
    "num_runs = 10  # Number of runs for statistical robustness"
   ]
  },
  {
   "cell_type": "code",
   "execution_count": null,
   "metadata": {},
   "outputs": [],
   "source": [
    "# Initialize results storage\n",
    "results = {}\n",
    "\n",
    "# List of algorithms and their specific parameters\n",
    "algorithms = {\n",
    "    'random_hill_climb': {'restarts': 50},\n",
    "    'simulated_annealing': {'schedule': mr.ExpDecay(init_temp=1, exp_const=0.005, min_temp=0.001)},\n",
    "    'genetic_alg': {'pop_size': 200, 'mutation_prob': 0.1}\n",
    "}"
   ]
  },
  {
   "cell_type": "code",
   "execution_count": null,
   "metadata": {},
   "outputs": [],
   "source": [
    "# Execute each algorithm multiple times\n",
    "for name, params in algorithms.items():\n",
    "    run_times = []\n",
    "    fitness_scores = []\n",
    "    curves = []\n",
    "    total_fevs = []  # List to store total function evaluations for each run\n",
    "\n",
    "    for _ in range(num_runs):\n",
    "        start_time = time.time()\n",
    "        _, best_fitness, fitness_curve = getattr(mr, name.lower())(\n",
    "            problem_kcolor, max_attempts=max_attempts, max_iters=max_iterations, \n",
    "            curve=True, random_state=42, **params)\n",
    "        end_time = time.time()\n",
    "\n",
    "        run_times.append(end_time - start_time)\n",
    "        fitness_scores.append(best_fitness)\n",
    "        curves.append(fitness_curve[:, 0])  # Assuming the first column is the fitness score\n",
    "\n",
    "        # Assuming the second column of fitness_curve contains the cumulative fevals\n",
    "        total_fevs.append(fitness_curve[-1, 1])\n",
    "\n",
    "    # Calculate fevals per second and per iteration\n",
    "    fevals_per_sec = sum(total_fevs) / sum(run_times)\n",
    "    fevals_per_iteration = sum(total_fevs) / (num_runs * max_iterations)\n",
    "\n",
    "    results[name] = {\n",
    "        'times': run_times,\n",
    "        'fitness_scores': fitness_scores,\n",
    "        'average_curve': np.mean(curves, axis=0),\n",
    "        'total_fevs': sum(total_fevs),  # Total function evaluations across all runs\n",
    "        'fevals_per_sec': fevals_per_sec,  # Function evaluations per second\n",
    "        'fevals_per_iteration': fevals_per_iteration  # Function evaluations per iteration\n",
    "    }\n"
   ]
  },
  {
   "cell_type": "code",
   "execution_count": null,
   "metadata": {},
   "outputs": [],
   "source": [
    "results_df = pd.DataFrame(results)\n",
    "results_df.to_csv('kcolor_results.csv')\n",
    "results_df"
   ]
  },
  {
   "cell_type": "code",
   "execution_count": null,
   "metadata": {},
   "outputs": [],
   "source": [
    "import matplotlib.pyplot as plt\n",
    "\n",
    "# Plot average fitness curves\n",
    "plt.figure(figsize=(10, 6))\n",
    "for algo, data in results.items():\n",
    "    plt.plot(data['average_curve'], label=f\"{algo} (Avg. Fitness)\")\n",
    "plt.title('Average Fitness Curves for 4-Peaks Problem')\n",
    "plt.xlabel('Iterations')\n",
    "plt.ylabel('Fitness')\n",
    "plt.legend()\n",
    "plt.grid(True)\n",
    "plt.show()\n",
    "\n",
    "# Plot convergence times\n",
    "plt.figure(figsize=(10, 6))\n",
    "convergence_times = [np.mean(data['times']) for algo, data in results.items()]\n",
    "plt.bar(results.keys(), convergence_times, color='lightblue')\n",
    "plt.title('Average Convergence Times for 4-Peaks Problem')\n",
    "plt.xlabel('Algorithm')\n",
    "plt.ylabel('Time in seconds')\n",
    "plt.grid(True, axis='y')\n",
    "plt.show()\n"
   ]
  }
 ],
 "metadata": {
  "kernelspec": {
   "display_name": "base",
   "language": "python",
   "name": "python3"
  },
  "language_info": {
   "codemirror_mode": {
    "name": "ipython",
    "version": 3
   },
   "file_extension": ".py",
   "mimetype": "text/x-python",
   "name": "python",
   "nbconvert_exporter": "python",
   "pygments_lexer": "ipython3",
   "version": "2022.10.undefined"
  }
 },
 "nbformat": 4,
 "nbformat_minor": 2
}
